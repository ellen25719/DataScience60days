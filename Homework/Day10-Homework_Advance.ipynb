{
 "cells": [
  {
   "cell_type": "markdown",
   "metadata": {
    "id": "wVq5E9P9RNOm"
   },
   "source": [
    "作業目標:<br>\n",
    "1. 熟悉索引操作\n",
    "2. 分辨合併資料方法使用時機"
   ]
  },
  {
   "cell_type": "markdown",
   "metadata": {
    "id": "_dJGNbEQR9fw"
   },
   "source": [
    "作業重點:<br>\n",
    "1. 操作索引注意有分loc、iloc\n",
    "2. 合併資料方法concat、merge、join其中有參數可以調整inner或outer"
   ]
  },
  {
   "cell_type": "markdown",
   "metadata": {
    "id": "xm-gS3tlRQFU"
   },
   "source": [
    "題目:<br>\n",
    "讀取STOCK_DAY_0050_202009.csv串聯STOCK_DAY_0050_202010.csv，並且找出open小於close的資料"
   ]
  },
  {
   "cell_type": "code",
   "execution_count": null,
   "metadata": {
    "id": "c28Som-RRO7s"
   },
   "outputs": [],
   "source": [
    "import pandas as pd"
   ]
  },
  {
   "cell_type": "code",
   "execution_count": null,
   "metadata": {
    "id": "Ie41WfAQwcCS"
   },
   "outputs": [],
   "source": [
    "#讀取STOCK_DAY_0050_202009.csv、STOCK_DAY_0050_202010.csv"
   ]
  },
  {
   "cell_type": "code",
   "execution_count": null,
   "metadata": {
    "id": "HwABxdTXwcCT"
   },
   "outputs": [],
   "source": [
    "#串聯"
   ]
  },
  {
   "cell_type": "code",
   "execution_count": null,
   "metadata": {
    "id": "_omQWydWwcCT",
    "scrolled": true
   },
   "outputs": [],
   "source": [
    "#找出open小於close的資料"
   ]
  },
  {
   "cell_type": "code",
   "execution_count": null,
   "metadata": {
    "id": "mFib7gxHwcCU"
   },
   "outputs": [],
   "source": []
  }
 ],
 "metadata": {
  "colab": {
   "collapsed_sections": [],
   "name": "pandas_select_merge_hw題目.ipynb",
   "provenance": []
  },
  "kernelspec": {
   "display_name": "Python 3",
   "language": "python",
   "name": "python3"
  },
  "language_info": {
   "codemirror_mode": {
    "name": "ipython",
    "version": 3
   },
   "file_extension": ".py",
   "mimetype": "text/x-python",
   "name": "python",
   "nbconvert_exporter": "python",
   "pygments_lexer": "ipython3",
   "version": "3.8.0"
  }
 },
 "nbformat": 4,
 "nbformat_minor": 1
}
