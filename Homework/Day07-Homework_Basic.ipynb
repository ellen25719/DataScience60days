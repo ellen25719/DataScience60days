{
 "cells": [
  {
   "cell_type": "markdown",
   "metadata": {
    "colab_type": "text",
    "id": "P6xk2_jLsvFF"
   },
   "source": [
    "# [作業目標]\n",
    "\n",
    "1. 請比較對一個 100 x 100 * 100 的陣列，使用不同方法對每一個元素 +1 的時間比較。\n",
    "\n",
    "2. 如何從一個陣列中，找出出現頻率最高的數值與位置？\n",
    "\n",
    "3. 如何利用 list(...) 實現 a.tolist() 的效果？試著用程式實作。\n"
   ]
  },
  {
   "cell_type": "markdown",
   "metadata": {
    "colab_type": "text",
    "id": "uXGll28asvFS"
   },
   "source": [
    "# 作業 "
   ]
  },
  {
   "cell_type": "markdown",
   "metadata": {},
   "source": [
    "### 1. 請比較對一個 1000 x 100 x 100 的陣列，使用不同方法對每一個元素 +1 的時間比較。\n",
    "\n",
    "\n"
   ]
  },
  {
   "cell_type": "code",
   "execution_count": null,
   "metadata": {},
   "outputs": [],
   "source": [
    "import numpy as np\n",
    "import time"
   ]
  },
  {
   "cell_type": "code",
   "execution_count": 24,
   "metadata": {
    "colab": {},
    "colab_type": "code",
    "id": "5QrYoyNWsvFS"
   },
   "outputs": [
    {
     "name": "stdout",
     "output_type": "stream",
     "text": [
      "[[[8 3 4 ... 2 8 4]\n",
      "  [0 0 1 ... 1 6 1]\n",
      "  [3 9 3 ... 3 1 9]\n",
      "  ...\n",
      "  [4 1 5 ... 1 6 2]\n",
      "  [9 1 9 ... 7 1 1]\n",
      "  [2 8 4 ... 2 3 3]]\n",
      "\n",
      " [[2 7 9 ... 5 9 7]\n",
      "  [4 9 5 ... 0 6 9]\n",
      "  [8 3 4 ... 4 3 4]\n",
      "  ...\n",
      "  [0 8 0 ... 7 4 8]\n",
      "  [4 7 9 ... 9 0 8]\n",
      "  [9 2 6 ... 9 1 4]]\n",
      "\n",
      " [[9 6 6 ... 3 5 2]\n",
      "  [8 4 0 ... 2 3 4]\n",
      "  [7 1 5 ... 5 9 8]\n",
      "  ...\n",
      "  [0 4 0 ... 6 2 5]\n",
      "  [1 5 8 ... 6 6 1]\n",
      "  [0 7 9 ... 4 1 4]]\n",
      "\n",
      " ...\n",
      "\n",
      " [[6 3 5 ... 9 5 3]\n",
      "  [9 4 4 ... 1 2 9]\n",
      "  [7 9 8 ... 2 6 2]\n",
      "  ...\n",
      "  [4 4 7 ... 9 6 3]\n",
      "  [9 2 2 ... 4 1 3]\n",
      "  [7 5 2 ... 8 0 5]]\n",
      "\n",
      " [[6 6 3 ... 9 2 3]\n",
      "  [0 6 6 ... 6 7 9]\n",
      "  [8 5 6 ... 2 3 9]\n",
      "  ...\n",
      "  [7 5 3 ... 4 1 0]\n",
      "  [0 9 7 ... 6 6 0]\n",
      "  [6 5 5 ... 9 0 6]]\n",
      "\n",
      " [[1 4 9 ... 8 4 2]\n",
      "  [6 7 1 ... 8 5 8]\n",
      "  [8 4 6 ... 6 3 5]\n",
      "  ...\n",
      "  [3 0 9 ... 7 5 1]\n",
      "  [4 8 7 ... 1 7 5]\n",
      "  [6 0 6 ... 2 9 9]]]\n"
     ]
    }
   ],
   "source": [
    "Z = np.random.randint(0, 10, 1000000).reshape(100, 100, 100)\n",
    "print(Z)"
   ]
  },
  {
   "cell_type": "code",
   "execution_count": 26,
   "metadata": {},
   "outputs": [
    {
     "name": "stdout",
     "output_type": "stream",
     "text": [
      "31.4 ns ± 7.81 ns per loop (mean ± std. dev. of 7 runs, 10 loops each)\n"
     ]
    }
   ],
   "source": [
    "%timeit -n 10 a = 2\n",
    "\n",
    "Z = Z+1"
   ]
  },
  {
   "cell_type": "code",
   "execution_count": 27,
   "metadata": {},
   "outputs": [
    {
     "name": "stdout",
     "output_type": "stream",
     "text": [
      "31.5 ns ± 9.41 ns per loop (mean ± std. dev. of 7 runs, 10 loops each)\n"
     ]
    }
   ],
   "source": [
    "%timeit -n 10 a = 2\n",
    "\n",
    "Z_method2 = []\n",
    "\n",
    "for i in Z.flat:\n",
    "    Z_method2.append(i+1)\n",
    "Z_method2=np.array(Z_method2).reshape(100,100,100)"
   ]
  },
  {
   "cell_type": "code",
   "execution_count": 28,
   "metadata": {},
   "outputs": [
    {
     "name": "stdout",
     "output_type": "stream",
     "text": [
      "31.8 ns ± 8.48 ns per loop (mean ± std. dev. of 7 runs, 10 loops each)\n"
     ]
    }
   ],
   "source": [
    "%timeit -n 10 a = 2\n",
    "\n",
    "Z_method3 = []\n",
    "\n",
    "for i in np.nditer(Z, order = 'C'):\n",
    "    Z_method3.append(i+1)\n",
    "\n",
    "Z_method3_array = np.array(Z_method3, dtype = int).reshape(100,100,100)"
   ]
  },
  {
   "cell_type": "markdown",
   "metadata": {},
   "source": [
    "### 2. 如何從一個陣列中，找出出現頻率最高的數值與位置？\n"
   ]
  },
  {
   "cell_type": "code",
   "execution_count": 16,
   "metadata": {
    "colab": {},
    "colab_type": "code",
    "id": "e1gVI0tvsvFY"
   },
   "outputs": [
    {
     "name": "stdout",
     "output_type": "stream",
     "text": [
      "[6 6 1 1 2 0 5 1 1 4 9 2 8 2 8 5 9 8 0 0 5 0 8 2 4 6 5 0 4 0 0 4 2 9 9 4 6\n",
      " 1 9 5 4 5 8 8 0 1 4 4 7 4]\n",
      "[6, 6, 1, 1, 2, 0, 5, 1, 1, 4, 9, 2, 8, 2, 8, 5, 9, 8, 0, 0, 5, 0, 8, 2, 4, 6, 5, 0, 4, 0, 0, 4, 2, 9, 9, 4, 6, 1, 9, 5, 4, 5, 8, 8, 0, 1, 4, 4, 7, 4]\n"
     ]
    }
   ],
   "source": [
    "import numpy as np\n",
    "\n",
    "Z = np.random.randint(0,10,50)\n",
    "Zc = Z.copy()\n",
    "Zlst = Z.tolist() \n",
    "print(Z)\n",
    "print(Zlst)\n"
   ]
  },
  {
   "cell_type": "code",
   "execution_count": 17,
   "metadata": {},
   "outputs": [
    {
     "name": "stdout",
     "output_type": "stream",
     "text": [
      "[0 1 2 4 5 6 7 8 9]\n",
      "[0, 1, 2, 4, 5, 6, 7, 8, 9]\n"
     ]
    }
   ],
   "source": [
    "a = np.unique(Z)\n",
    "A = a.tolist()\n",
    "print(a)\n",
    "print(A)"
   ]
  },
  {
   "cell_type": "code",
   "execution_count": 23,
   "metadata": {},
   "outputs": [
    {
     "name": "stdout",
     "output_type": "stream",
     "text": [
      "最多的數值是 4 共有 9 個\n",
      "(array([ 9, 24, 28, 31, 35, 40, 46, 47, 49]),)\n"
     ]
    }
   ],
   "source": [
    "most=0\n",
    "ct = 0\n",
    "for i in A:\n",
    "    if Zlst.count(i) > ct:\n",
    "        ct = Zlst.count(i)\n",
    "        most=i\n",
    "position = np.where(Z == most)\n",
    "print('最多的數值是',most,'共有',ct,'個')\n",
    "print(position)"
   ]
  },
  {
   "cell_type": "markdown",
   "metadata": {},
   "source": [
    "### 3. 如何利用 list(...) 實現 a.tolist() 的效果？試著用程式實作。\n"
   ]
  },
  {
   "cell_type": "code",
   "execution_count": 1,
   "metadata": {},
   "outputs": [
    {
     "name": "stdout",
     "output_type": "stream",
     "text": [
      "[6, 1, 2, 8, 8, 8]\n",
      "[6, 1, 2, 8, 8, 8]\n",
      "[[5, 0, 9, 5], [3, 9, 2, 3], [8, 3, 1, 0]]\n",
      "[array([5, 0, 9, 5]), array([3, 9, 2, 3]), array([8, 3, 1, 0])]\n",
      "[[[9, 4], [8, 2], [6, 1]], [[4, 4], [3, 9], [9, 6]]]\n",
      "[array([[9, 4],\n",
      "       [8, 2],\n",
      "       [6, 1]]), array([[4, 4],\n",
      "       [3, 9],\n",
      "       [9, 6]])]\n"
     ]
    }
   ],
   "source": [
    "import numpy as np\n",
    "\n",
    "a = np.random.randint(10, size=6) \n",
    "\n",
    "print(a.tolist())\n",
    "print(list(a))\n",
    "\n",
    "\n",
    "b = np.random.randint(10, size=(3,4)) \n",
    "\n",
    "print(b.tolist())\n",
    "print(list(b))\n",
    "\n",
    "\n",
    "c = np.random.randint(10, size=(2,3,2)) \n",
    "\n",
    "print(c.tolist())\n",
    "print(list(c))\n"
   ]
  },
  {
   "cell_type": "code",
   "execution_count": 2,
   "metadata": {},
   "outputs": [
    {
     "name": "stdout",
     "output_type": "stream",
     "text": [
      "[2, 3, 1, 6, 6, 0]\n",
      "[[5, 6, 3, 8], [6, 2, 0, 9], [1, 3, 2, 2]]\n",
      "[[3, 8], [2, 9], [2, 7], [6, 0], [9, 1], [2, 1]]\n"
     ]
    }
   ],
   "source": [
    "def newtolist(array):\n",
    "    newlist = []\n",
    "    if array.ndim == 3:\n",
    "        for x in range(0,array.shape[0]):\n",
    "            for y in range(0,array.shape[1]):\n",
    "                newlist.append(list(c[x][y]))\n",
    "        return newlist\n",
    "    if array.ndim == 2:\n",
    "        for x in range(0,array.shape[0]):\n",
    "            newlist.append(list(array[x]))\n",
    "        return newlist\n",
    "    else:\n",
    "        return list(array)\n",
    "\n",
    "a = np.random.randint(10, size=6)\n",
    "b = np.random.randint(10, size=(3,4)) \n",
    "c = np.random.randint(10, size=(2,3,2))\n",
    "\n",
    "print(newtolist(a))\n",
    "print(newtolist(b))\n",
    "print(newtolist(c))"
   ]
  },
  {
   "cell_type": "code",
   "execution_count": null,
   "metadata": {},
   "outputs": [],
   "source": []
  },
  {
   "cell_type": "code",
   "execution_count": null,
   "metadata": {},
   "outputs": [],
   "source": []
  }
 ],
 "metadata": {
  "colab": {
   "name": "Day_023_HW.ipynb",
   "provenance": []
  },
  "kernelspec": {
   "display_name": "Python 3",
   "language": "python",
   "name": "python3"
  },
  "language_info": {
   "codemirror_mode": {
    "name": "ipython",
    "version": 3
   },
   "file_extension": ".py",
   "mimetype": "text/x-python",
   "name": "python",
   "nbconvert_exporter": "python",
   "pygments_lexer": "ipython3",
   "version": "3.8.0"
  }
 },
 "nbformat": 4,
 "nbformat_minor": 1
}
