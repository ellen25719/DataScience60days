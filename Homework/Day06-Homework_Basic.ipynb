{
 "cells": [
  {
   "cell_type": "markdown",
   "metadata": {
    "id": "P6xk2_jLsvFF"
   },
   "source": [
    "# [作業目標]\n",
    "\n",
    "1. [簡答題] 請問下列這三種方法有什麼不同？\n",
    "\n",
    "```\n",
    "print(a.sum()) \n",
    "print(np.sum(a))\n",
    "print(sum(a)) \n",
    "```\n",
    "\n",
    "2. 請對一個 5x5 的隨機矩陣作正規化的操作。\n",
    "\n",
    "3. 請建立一個長度等於 10 的正整數向量，並且將其中的最大值改成 -1。\n"
   ]
  },
  {
   "cell_type": "markdown",
   "metadata": {
    "id": "uXGll28asvFS"
   },
   "source": [
    "# 作業 "
   ]
  },
  {
   "cell_type": "markdown",
   "metadata": {
    "id": "lbz8VjL6jxyL"
   },
   "source": [
    "### 1. [簡答題] 請問下列這三種方法有什麼不同？\n",
    "\n",
    "```\n",
    "print(a.sum()) \n",
    "print(np.sum(a))\n",
    "print(sum(a)) \n",
    "```\n",
    "\n"
   ]
  },
  {
   "cell_type": "code",
   "execution_count": 4,
   "metadata": {
    "id": "5QrYoyNWsvFS",
    "outputId": "e9e14d36-38ce-4ce5-edf2-3c7b129db580"
   },
   "outputs": [
    {
     "name": "stdout",
     "output_type": "stream",
     "text": [
      "[0 1 2 3 4 5]\n",
      "a.sum() = 15\n",
      "np.sum(a) = 15\n",
      "sum(a) = 15\n",
      "\n",
      "a.sum及np.sum()為陣列之函式；sum()則為python之函式，所有型態皆可以使用且答案相同。\n",
      "但運算的速度上，sum()比較慢\n"
     ]
    }
   ],
   "source": [
    "import numpy as np\n",
    "\n",
    "a = np.arange(6)\n",
    "print(a)\n",
    "\n",
    "print('a.sum() =',a.sum())\n",
    "print('np.sum(a) =',np.sum(a))\n",
    "print('sum(a) =',sum(a))\n",
    "print()\n",
    "print('a.sum及np.sum()為陣列之函式；sum()則為python之函式，所有型態皆可以使用且答案相同。\\n但運算的速度上，sum()比較慢')"
   ]
  },
  {
   "cell_type": "markdown",
   "metadata": {
    "id": "vVrjBXabjxyS"
   },
   "source": [
    "### 2. 請對一個 5x5 的隨機矩陣作正規化的操作。"
   ]
  },
  {
   "cell_type": "code",
   "execution_count": 11,
   "metadata": {},
   "outputs": [],
   "source": [
    "### 最小值最大值正規化(Min-Max Normalization)：將資料等比例縮放到 [0, 1] 區間。\n",
    "### 公式為： Xnom = (X-Xmin)/(Xmax-Xmin)\n",
    "### 或利用平均值Xmean，將資料縮放至[-1,1]之間 → 平均值正規化(Mean Normalization)\n",
    "### 公式為: Xnom = (X-Xmean)/(Xmax-Xmin)"
   ]
  },
  {
   "cell_type": "code",
   "execution_count": 8,
   "metadata": {
    "id": "ffDRVHs9jxyS"
   },
   "outputs": [],
   "source": [
    "import numpy as np"
   ]
  },
  {
   "cell_type": "code",
   "execution_count": 13,
   "metadata": {
    "id": "e1gVI0tvsvFY",
    "outputId": "43bf676f-fd04-4edf-c062-b5fe7fe1f4bf"
   },
   "outputs": [
    {
     "name": "stdout",
     "output_type": "stream",
     "text": [
      "Min-Max Normalization\n",
      "[[0.32618914 0.22671497 0.17733206 0.67199734 0.15991373]\n",
      " [0.79570178 0.05444892 0.70424418 0.51404198 0.82343747]\n",
      " [0.60818491 1.         0.46498686 0.4689045  0.        ]\n",
      " [0.29772578 0.51864332 0.79379561 0.13694882 0.56794614]\n",
      " [0.3342491  0.91651898 0.7833902  0.9473825  0.75934899]]\n",
      "Mean Normalization\n",
      "[[-0.19589275 -0.29536692 -0.34474983  0.14991545 -0.36216816]\n",
      " [ 0.27361989 -0.46763297  0.18216228 -0.00803991  0.30135558]\n",
      " [ 0.08610302  0.47791811 -0.05709504 -0.05317739 -0.52208189]\n",
      " [-0.22435611 -0.00343857  0.27171372 -0.38513307  0.04586425]\n",
      " [-0.18783279  0.39443709  0.26130831  0.42530061  0.2372671 ]]\n"
     ]
    }
   ],
   "source": [
    "A0 = np.random.random((5, 5))\n",
    "A = A0.copy()\n",
    "\n",
    "Amax = A.max()\n",
    "Amin = A.min()\n",
    "Amean = A.mean()\n",
    "\n",
    "norA1 = (A-Amin)/(Amax-Amin)\n",
    "norA2 = (A-Amean)/(Amax-Amin)\n",
    "print('Min-Max Normalization')\n",
    "print(norA1)\n",
    "print('Mean Normalization')\n",
    "print(norA2)\n",
    "\n"
   ]
  },
  {
   "cell_type": "code",
   "execution_count": null,
   "metadata": {},
   "outputs": [],
   "source": []
  },
  {
   "cell_type": "markdown",
   "metadata": {
    "id": "Ptc3ZrNQjxyU"
   },
   "source": [
    "### 3. 請建立一個長度等於 10 的正整數向量，並且將其中的最大值改成 -1。\n"
   ]
  },
  {
   "cell_type": "code",
   "execution_count": null,
   "metadata": {
    "id": "Yu1kbLxojxyU",
    "outputId": "d323e754-178a-46ae-e15e-98275ae220dd"
   },
   "outputs": [
    {
     "name": "stdout",
     "output_type": "stream",
     "text": [
      "[ 0.29347583  0.59303277 -1.          0.38043546  0.63265939  0.32472618\n",
      "  0.11340241  0.68136955  0.89905432  0.74769935]\n"
     ]
    }
   ],
   "source": [
    "import numpy as np\n",
    "\n",
    "A0 = np.arange(10)\n",
    "A = A0.copy()\n",
    "\n"
   ]
  },
  {
   "cell_type": "code",
   "execution_count": 26,
   "metadata": {
    "id": "IoPlZnZgjxyV"
   },
   "outputs": [
    {
     "name": "stdout",
     "output_type": "stream",
     "text": [
      "[42 68 67 69 74 12 66 18 39 73]\n",
      "[42 68 67 69 -1 12 66 18 39 73]\n"
     ]
    }
   ],
   "source": [
    "import numpy as np\n",
    "\n",
    "A0 = np.random.randint(1,100,10)\n",
    "A = A0.copy()\n",
    "\n",
    "print(A0)\n",
    "Amax = A.max()\n",
    "A[A==Amax]=-1\n",
    "print(A)"
   ]
  },
  {
   "cell_type": "code",
   "execution_count": null,
   "metadata": {
    "id": "V5bMfGR_jxyV"
   },
   "outputs": [],
   "source": []
  }
 ],
 "metadata": {
  "colab": {
   "name": "06 Homework_維元.ipynb",
   "provenance": []
  },
  "kernelspec": {
   "display_name": "Python 3",
   "language": "python",
   "name": "python3"
  },
  "language_info": {
   "codemirror_mode": {
    "name": "ipython",
    "version": 3
   },
   "file_extension": ".py",
   "mimetype": "text/x-python",
   "name": "python",
   "nbconvert_exporter": "python",
   "pygments_lexer": "ipython3",
   "version": "3.8.0"
  }
 },
 "nbformat": 4,
 "nbformat_minor": 1
}
