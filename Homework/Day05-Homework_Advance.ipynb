{
 "cells": [
  {
   "cell_type": "markdown",
   "metadata": {
    "id": "oef8c2jr-PZY"
   },
   "source": [
    "作業目標<br>\n",
    "計算有缺失值的資料，統計量實作<br>\n",
    "作業重點<br>\n",
    "當遇到缺失值有函式可以處理，不須額外寫程式刪除<br>\n",
    "計算統計量時不能出現缺失值"
   ]
  },
  {
   "cell_type": "markdown",
   "metadata": {
    "id": "4YgL8NF4-Ru3"
   },
   "source": [
    "題目:<br>\n",
    "english_score = np.array([55,89,76,65,48,70])<br>\n",
    "math_score = np.array([60,85,60,68,np.nan,60])<br>\n",
    "chinese_score = np.array([65,90,82,72,66,77])<br>\n",
    "上3列共六位同學的英文、數學、國文成績，第一個元素代表第一位同學，舉例第一位同學英文55分、數學60分、國文65分，今天第五位同學因某原因沒來考試，導致數學成績缺值，運用上列數據回答下列問題。<br>\n",
    "1. 請計算各科成績平均、最大值、最小值、標準差，其中數學缺一筆資料可忽略?\n",
    "2. 第五位同學補考數學後成績為55，請計算補考後數學成績平均、最大值、最小值、標準差?\n",
    "3. 用補考後資料找出與國文成績相關係數最高的學科?"
   ]
  },
  {
   "cell_type": "code",
   "execution_count": 18,
   "metadata": {
    "executionInfo": {
     "elapsed": 617,
     "status": "ok",
     "timestamp": 1609854566856,
     "user": {
      "displayName": "献竤黃",
      "photoUrl": "",
      "userId": "07529243043474362942"
     },
     "user_tz": -480
    },
    "id": "QwsKU8qO-RK7"
   },
   "outputs": [],
   "source": [
    "import numpy as np"
   ]
  },
  {
   "cell_type": "code",
   "execution_count": 19,
   "metadata": {
    "executionInfo": {
     "elapsed": 1016,
     "status": "ok",
     "timestamp": 1609854567261,
     "user": {
      "displayName": "献竤黃",
      "photoUrl": "",
      "userId": "07529243043474362942"
     },
     "user_tz": -480
    },
    "id": "B5BqDQAe_czh"
   },
   "outputs": [],
   "source": [
    "english_score = np.array([55,89,76,65,48,70])\n",
    "math_score = np.array([60,85,60,68,np.nan,60])\n",
    "chinese_score = np.array([65,90,82,72,66,77])"
   ]
  },
  {
   "cell_type": "code",
   "execution_count": 20,
   "metadata": {
    "executionInfo": {
     "elapsed": 1005,
     "status": "ok",
     "timestamp": 1609854567262,
     "user": {
      "displayName": "献竤黃",
      "photoUrl": "",
      "userId": "07529243043474362942"
     },
     "user_tz": -480
    },
    "id": "K3tUA6u9aI3N"
   },
   "outputs": [
    {
     "name": "stdout",
     "output_type": "stream",
     "text": [
      "英文科成績平均、最大值、最小值、標準差分別為 [67.17 89.   48.   13.43]\n",
      "數學科成績平均、最大值、最小值、標準差分別為 [66.6  85.   60.    9.71]\n",
      "國文科成績平均、最大值、最小值、標準差分別為 [75.33 90.   65.    8.83]\n"
     ]
    }
   ],
   "source": [
    "#1. 請計算各科成績平均、最大值、最小值、標準差，其中數學缺一筆資料可忽略?\n",
    "emean = np.mean(english_score).round(2)\n",
    "emax = np.max(english_score)\n",
    "emin = np.min(english_score)\n",
    "estd = np.std(english_score).round(2)\n",
    "e = np.array([emean,emax,emin,estd])\n",
    "\n",
    "mmean = np.nanmean(math_score).round(2)\n",
    "mmax = np.nanmax(math_score)\n",
    "mmin = np.nanmin(math_score)\n",
    "mstd = np.nanstd(math_score).round(2)\n",
    "m = np.array([mmean,mmax,mmin,mstd])\n",
    "\n",
    "cmean = np.mean(chinese_score).round(2)\n",
    "cmax = np.max(chinese_score)\n",
    "cmin = np.min(chinese_score)\n",
    "cstd = np.std(chinese_score).round(2)\n",
    "c = np.array([cmean,cmax,cmin,cstd])\n",
    "\n",
    "print('英文科成績平均、最大值、最小值、標準差分別為',e)\n",
    "print('數學科成績平均、最大值、最小值、標準差分別為',m)\n",
    "print('國文科成績平均、最大值、最小值、標準差分別為',c)"
   ]
  },
  {
   "cell_type": "code",
   "execution_count": 21,
   "metadata": {
    "executionInfo": {
     "elapsed": 996,
     "status": "ok",
     "timestamp": 1609854567262,
     "user": {
      "displayName": "献竤黃",
      "photoUrl": "",
      "userId": "07529243043474362942"
     },
     "user_tz": -480
    },
    "id": "mXjDzvSrbLlf"
   },
   "outputs": [
    {
     "name": "stdout",
     "output_type": "stream",
     "text": [
      "完成補考後，數學科成績平均、最大值、最小值、標準差分別為 [64.67 85.   55.    9.86]\n"
     ]
    }
   ],
   "source": [
    "#2. 第五位同學補考數學後成績為55，請計算補考後數學成績平均、最大值、最小值、標準差?\n",
    "math_score = np.array([60,85,60,68,np.nan,60])\n",
    "math_score[4] = 55\n",
    "\n",
    "mmean = np.mean(math_score).round(2)\n",
    "mmax = np.max(math_score)\n",
    "mmin = np.min(math_score)\n",
    "mstd = np.std(math_score).round(2)\n",
    "m = np.array([mmean,mmax,mmin,mstd])\n",
    "print('完成補考後，數學科成績平均、最大值、最小值、標準差分別為',m)"
   ]
  },
  {
   "cell_type": "code",
   "execution_count": 34,
   "metadata": {
    "executionInfo": {
     "elapsed": 989,
     "status": "ok",
     "timestamp": 1609854567264,
     "user": {
      "displayName": "献竤黃",
      "photoUrl": "",
      "userId": "07529243043474362942"
     },
     "user_tz": -480
    },
    "id": "SaGolKx0cKoU"
   },
   "outputs": [
    {
     "name": "stdout",
     "output_type": "stream",
     "text": [
      "[[1.         0.97792828]\n",
      " [0.97792828 1.        ]]\n",
      "[[1.         0.74056803]\n",
      " [0.74056803 1.        ]]\n",
      "與國文成績相關係數最高的學科是 英文\n"
     ]
    }
   ],
   "source": [
    "#3. 用補考後資料找出與國文成績相關係數最高的學科?\n",
    "\n",
    "x = np.corrcoef(english_score, chinese_score)\n",
    "y = np.corrcoef(math_score, chinese_score)\n",
    "\n",
    "print(x)\n",
    "print(y)\n",
    "\n",
    "\n",
    "if np.any(np.greater(x,y)) :\n",
    "    print('與國文成績相關係數最高的學科是 英文')\n",
    "else :\n",
    "    print('與國文成績相關係數最高的學科是 數學')\n"
   ]
  },
  {
   "cell_type": "code",
   "execution_count": 32,
   "metadata": {
    "executionInfo": {
     "elapsed": 987,
     "status": "ok",
     "timestamp": 1609854567264,
     "user": {
      "displayName": "献竤黃",
      "photoUrl": "",
      "userId": "07529243043474362942"
     },
     "user_tz": -480
    },
    "id": "fTNlLZ9Pzyiy"
   },
   "outputs": [
    {
     "name": "stdout",
     "output_type": "stream",
     "text": [
      "與國文成績相關係數最高的學科是 英文\n"
     ]
    }
   ],
   "source": [
    "combine_array=np.vstack((english_score,math_score,chinese_score))\n",
    "np.corrcoef(combine_array)\n",
    "eng_corrcoef=np.corrcoef(combine_array)[2,0]\n",
    "math_corrcoef=np.corrcoef(combine_array)[2,1]\n",
    "if eng_corrcoef > math_corrcoef :\n",
    "    print('與國文成績相關係數最高的學科是 英文')\n",
    "else :\n",
    "    print('與國文成績相關係數最高的學科是 數學')"
   ]
  },
  {
   "cell_type": "code",
   "execution_count": null,
   "metadata": {},
   "outputs": [],
   "source": []
  },
  {
   "cell_type": "code",
   "execution_count": null,
   "metadata": {},
   "outputs": [],
   "source": []
  },
  {
   "cell_type": "code",
   "execution_count": null,
   "metadata": {},
   "outputs": [],
   "source": []
  }
 ],
 "metadata": {
  "colab": {
   "authorship_tag": "ABX9TyPtywwDR7TsGGEOMGYLDT5h",
   "collapsed_sections": [],
   "name": "作業Hong題目.ipynb",
   "provenance": []
  },
  "kernelspec": {
   "display_name": "Python 3",
   "language": "python",
   "name": "python3"
  },
  "language_info": {
   "codemirror_mode": {
    "name": "ipython",
    "version": 3
   },
   "file_extension": ".py",
   "mimetype": "text/x-python",
   "name": "python",
   "nbconvert_exporter": "python",
   "pygments_lexer": "ipython3",
   "version": "3.8.0"
  }
 },
 "nbformat": 4,
 "nbformat_minor": 1
}
